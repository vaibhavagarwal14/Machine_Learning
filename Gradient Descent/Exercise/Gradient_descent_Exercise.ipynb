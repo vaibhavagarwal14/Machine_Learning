{
  "nbformat": 4,
  "nbformat_minor": 0,
  "metadata": {
    "colab": {
      "provenance": []
    },
    "kernelspec": {
      "name": "python3",
      "display_name": "Python 3"
    },
    "language_info": {
      "name": "python"
    }
  },
  "cells": [
    {
      "cell_type": "markdown",
      "source": [
        "Implementing Gradient Descent for test_scores data and verifying with Linear Regression Library"
      ],
      "metadata": {
        "id": "QcfSOG61zTer"
      }
    },
    {
      "cell_type": "code",
      "execution_count": 1,
      "metadata": {
        "id": "g_dJ8A6ty5ym"
      },
      "outputs": [],
      "source": [
        "import pandas as pd\n",
        "import numpy as np\n",
        "import matplotlib.pyplot as plt\n",
        "%matplotlib inline\n",
        "from sklearn import linear_model"
      ]
    },
    {
      "cell_type": "code",
      "source": [
        "df=pd.read_csv('test_scores.csv')"
      ],
      "metadata": {
        "id": "Id-BBPTS0UBi"
      },
      "execution_count": 2,
      "outputs": []
    },
    {
      "cell_type": "code",
      "source": [
        "df.shape"
      ],
      "metadata": {
        "colab": {
          "base_uri": "https://localhost:8080/"
        },
        "id": "qsIw3ZYX0dSL",
        "outputId": "c362811a-91fa-4728-f49c-a49a91c59586"
      },
      "execution_count": 3,
      "outputs": [
        {
          "output_type": "execute_result",
          "data": {
            "text/plain": [
              "(10, 3)"
            ]
          },
          "metadata": {},
          "execution_count": 3
        }
      ]
    },
    {
      "cell_type": "code",
      "source": [
        "df"
      ],
      "metadata": {
        "colab": {
          "base_uri": "https://localhost:8080/",
          "height": 363
        },
        "id": "wrvP0BGO0fC2",
        "outputId": "9a251961-392a-4598-8041-c96d5dcb5f5a"
      },
      "execution_count": 4,
      "outputs": [
        {
          "output_type": "execute_result",
          "data": {
            "text/plain": [
              "     name  math  cs\n",
              "0   david    92  98\n",
              "1   laura    56  68\n",
              "2  sanjay    88  81\n",
              "3     wei    70  80\n",
              "4    jeff    80  83\n",
              "5   aamir    49  52\n",
              "6  venkat    65  66\n",
              "7   virat    35  30\n",
              "8  arthur    66  68\n",
              "9    paul    67  73"
            ],
            "text/html": [
              "\n",
              "  <div id=\"df-5c467492-393b-479c-b956-fb13ec21d8a5\">\n",
              "    <div class=\"colab-df-container\">\n",
              "      <div>\n",
              "<style scoped>\n",
              "    .dataframe tbody tr th:only-of-type {\n",
              "        vertical-align: middle;\n",
              "    }\n",
              "\n",
              "    .dataframe tbody tr th {\n",
              "        vertical-align: top;\n",
              "    }\n",
              "\n",
              "    .dataframe thead th {\n",
              "        text-align: right;\n",
              "    }\n",
              "</style>\n",
              "<table border=\"1\" class=\"dataframe\">\n",
              "  <thead>\n",
              "    <tr style=\"text-align: right;\">\n",
              "      <th></th>\n",
              "      <th>name</th>\n",
              "      <th>math</th>\n",
              "      <th>cs</th>\n",
              "    </tr>\n",
              "  </thead>\n",
              "  <tbody>\n",
              "    <tr>\n",
              "      <th>0</th>\n",
              "      <td>david</td>\n",
              "      <td>92</td>\n",
              "      <td>98</td>\n",
              "    </tr>\n",
              "    <tr>\n",
              "      <th>1</th>\n",
              "      <td>laura</td>\n",
              "      <td>56</td>\n",
              "      <td>68</td>\n",
              "    </tr>\n",
              "    <tr>\n",
              "      <th>2</th>\n",
              "      <td>sanjay</td>\n",
              "      <td>88</td>\n",
              "      <td>81</td>\n",
              "    </tr>\n",
              "    <tr>\n",
              "      <th>3</th>\n",
              "      <td>wei</td>\n",
              "      <td>70</td>\n",
              "      <td>80</td>\n",
              "    </tr>\n",
              "    <tr>\n",
              "      <th>4</th>\n",
              "      <td>jeff</td>\n",
              "      <td>80</td>\n",
              "      <td>83</td>\n",
              "    </tr>\n",
              "    <tr>\n",
              "      <th>5</th>\n",
              "      <td>aamir</td>\n",
              "      <td>49</td>\n",
              "      <td>52</td>\n",
              "    </tr>\n",
              "    <tr>\n",
              "      <th>6</th>\n",
              "      <td>venkat</td>\n",
              "      <td>65</td>\n",
              "      <td>66</td>\n",
              "    </tr>\n",
              "    <tr>\n",
              "      <th>7</th>\n",
              "      <td>virat</td>\n",
              "      <td>35</td>\n",
              "      <td>30</td>\n",
              "    </tr>\n",
              "    <tr>\n",
              "      <th>8</th>\n",
              "      <td>arthur</td>\n",
              "      <td>66</td>\n",
              "      <td>68</td>\n",
              "    </tr>\n",
              "    <tr>\n",
              "      <th>9</th>\n",
              "      <td>paul</td>\n",
              "      <td>67</td>\n",
              "      <td>73</td>\n",
              "    </tr>\n",
              "  </tbody>\n",
              "</table>\n",
              "</div>\n",
              "      <button class=\"colab-df-convert\" onclick=\"convertToInteractive('df-5c467492-393b-479c-b956-fb13ec21d8a5')\"\n",
              "              title=\"Convert this dataframe to an interactive table.\"\n",
              "              style=\"display:none;\">\n",
              "        \n",
              "  <svg xmlns=\"http://www.w3.org/2000/svg\" height=\"24px\"viewBox=\"0 0 24 24\"\n",
              "       width=\"24px\">\n",
              "    <path d=\"M0 0h24v24H0V0z\" fill=\"none\"/>\n",
              "    <path d=\"M18.56 5.44l.94 2.06.94-2.06 2.06-.94-2.06-.94-.94-2.06-.94 2.06-2.06.94zm-11 1L8.5 8.5l.94-2.06 2.06-.94-2.06-.94L8.5 2.5l-.94 2.06-2.06.94zm10 10l.94 2.06.94-2.06 2.06-.94-2.06-.94-.94-2.06-.94 2.06-2.06.94z\"/><path d=\"M17.41 7.96l-1.37-1.37c-.4-.4-.92-.59-1.43-.59-.52 0-1.04.2-1.43.59L10.3 9.45l-7.72 7.72c-.78.78-.78 2.05 0 2.83L4 21.41c.39.39.9.59 1.41.59.51 0 1.02-.2 1.41-.59l7.78-7.78 2.81-2.81c.8-.78.8-2.07 0-2.86zM5.41 20L4 18.59l7.72-7.72 1.47 1.35L5.41 20z\"/>\n",
              "  </svg>\n",
              "      </button>\n",
              "      \n",
              "  <style>\n",
              "    .colab-df-container {\n",
              "      display:flex;\n",
              "      flex-wrap:wrap;\n",
              "      gap: 12px;\n",
              "    }\n",
              "\n",
              "    .colab-df-convert {\n",
              "      background-color: #E8F0FE;\n",
              "      border: none;\n",
              "      border-radius: 50%;\n",
              "      cursor: pointer;\n",
              "      display: none;\n",
              "      fill: #1967D2;\n",
              "      height: 32px;\n",
              "      padding: 0 0 0 0;\n",
              "      width: 32px;\n",
              "    }\n",
              "\n",
              "    .colab-df-convert:hover {\n",
              "      background-color: #E2EBFA;\n",
              "      box-shadow: 0px 1px 2px rgba(60, 64, 67, 0.3), 0px 1px 3px 1px rgba(60, 64, 67, 0.15);\n",
              "      fill: #174EA6;\n",
              "    }\n",
              "\n",
              "    [theme=dark] .colab-df-convert {\n",
              "      background-color: #3B4455;\n",
              "      fill: #D2E3FC;\n",
              "    }\n",
              "\n",
              "    [theme=dark] .colab-df-convert:hover {\n",
              "      background-color: #434B5C;\n",
              "      box-shadow: 0px 1px 3px 1px rgba(0, 0, 0, 0.15);\n",
              "      filter: drop-shadow(0px 1px 2px rgba(0, 0, 0, 0.3));\n",
              "      fill: #FFFFFF;\n",
              "    }\n",
              "  </style>\n",
              "\n",
              "      <script>\n",
              "        const buttonEl =\n",
              "          document.querySelector('#df-5c467492-393b-479c-b956-fb13ec21d8a5 button.colab-df-convert');\n",
              "        buttonEl.style.display =\n",
              "          google.colab.kernel.accessAllowed ? 'block' : 'none';\n",
              "\n",
              "        async function convertToInteractive(key) {\n",
              "          const element = document.querySelector('#df-5c467492-393b-479c-b956-fb13ec21d8a5');\n",
              "          const dataTable =\n",
              "            await google.colab.kernel.invokeFunction('convertToInteractive',\n",
              "                                                     [key], {});\n",
              "          if (!dataTable) return;\n",
              "\n",
              "          const docLinkHtml = 'Like what you see? Visit the ' +\n",
              "            '<a target=\"_blank\" href=https://colab.research.google.com/notebooks/data_table.ipynb>data table notebook</a>'\n",
              "            + ' to learn more about interactive tables.';\n",
              "          element.innerHTML = '';\n",
              "          dataTable['output_type'] = 'display_data';\n",
              "          await google.colab.output.renderOutput(dataTable, element);\n",
              "          const docLink = document.createElement('div');\n",
              "          docLink.innerHTML = docLinkHtml;\n",
              "          element.appendChild(docLink);\n",
              "        }\n",
              "      </script>\n",
              "    </div>\n",
              "  </div>\n",
              "  "
            ]
          },
          "metadata": {},
          "execution_count": 4
        }
      ]
    },
    {
      "cell_type": "code",
      "source": [
        "#We consider math as independent and cs as dependent\n",
        "x=df['math']\n",
        "y=df['cs']"
      ],
      "metadata": {
        "id": "6Xkb6efa0o_8"
      },
      "execution_count": 5,
      "outputs": []
    },
    {
      "cell_type": "code",
      "source": [
        "m_curr = b_curr = 0\n",
        "iterations=10\n",
        "alpha=0.001\n",
        "n=len(x)"
      ],
      "metadata": {
        "id": "uNgOvx4e0zL5"
      },
      "execution_count": 6,
      "outputs": []
    },
    {
      "cell_type": "code",
      "source": [
        "for i in range(iterations):\n",
        "  y_pred = m_curr * x + b_curr\n",
        "  cost=(1/n)*sum([val**2 for val in (y-y_pred)])\n",
        "  md=-(2/n)*sum(x*(y-y_pred))\n",
        "  bd=-(2/n)*sum(y-y_pred)\n",
        "  m_curr=m_curr-alpha*md\n",
        "  b_curr=b_curr-alpha*bd\n",
        "  print(\"m - {} , b - {} , cost - {} \".format(m_curr,b_curr,cost))\n",
        "\n",
        "#alpha=0.001, iteration=10"
      ],
      "metadata": {
        "colab": {
          "base_uri": "https://localhost:8080/"
        },
        "id": "LUptbv0V05Iv",
        "outputId": "23672cac-1a8a-4000-cdfc-1929a018569c"
      },
      "execution_count": 7,
      "outputs": [
        {
          "output_type": "stream",
          "name": "stdout",
          "text": [
            "m - 9.891800000000002 , b - 0.1398 , cost - 5199.1 \n",
            "m - -73.89063968000005 , b - -1.0422240800000002 , cost - 370727.6662565042 \n",
            "m - 635.7369779473285 , b - 8.971449829408007 , cost - 26593365.21283422 \n",
            "m - -5374.727514955187 , b - -75.84115332401389 , cost - 1907777992.8722565 \n",
            "m - 45533.21677472461 , b - 642.5139249806472 , cost - 136861998255.80414 \n",
            "m - -385651.2277087454 , b - -5441.869063972523 , cost - 9818336798225.717 \n",
            "m - 3266431.5217446033 , b - 46092.15849604381 , cost - 704357226503460.2 \n",
            "m - -27666290.14670837 , b - -390395.13732602727 , cost - 5.052985171774353e+16 \n",
            "m - 234330311.64447328 , b - 3306602.156348863 , cost - 3.6249587830483005e+18 \n",
            "m - -1984750831.161688 , b - -28006540.543865472 , cost - 2.6005075677245276e+20 \n"
          ]
        }
      ]
    },
    {
      "cell_type": "code",
      "source": [
        "#We see the cost increasing so we decrease the alpha\n",
        "m_curr = b_curr = 0\n",
        "iterations=10\n",
        "alpha=0.0001\n",
        "n=len(x)\n",
        "for i in range(iterations):\n",
        "  y_pred = m_curr * x + b_curr\n",
        "  cost=(1/n)*sum([val**2 for val in (y-y_pred)])\n",
        "  md=-(2/n)*sum(x*(y-y_pred))\n",
        "  bd=-(2/n)*sum(y-y_pred)\n",
        "  m_curr=m_curr-alpha*md\n",
        "  b_curr=b_curr-alpha*bd\n",
        "  print(\"m - {} , b - {} , cost - {} \".format(m_curr,b_curr,cost))\n",
        "\n",
        "#alpha=0.0001, iteration=10"
      ],
      "metadata": {
        "colab": {
          "base_uri": "https://localhost:8080/"
        },
        "id": "5zTPUrx7096a",
        "outputId": "d6b79266-b3fd-4939-ad10-751e245bc06a"
      },
      "execution_count": 8,
      "outputs": [
        {
          "output_type": "stream",
          "name": "stdout",
          "text": [
            "m - 0.9891800000000002 , b - 0.013980000000000001 , cost - 5199.1 \n",
            "m - 1.0416176032 , b - 0.0147417592 , cost - 46.3330473650399 \n",
            "m - 1.0443971065873279 , b - 0.014802799669408 , cost - 31.852649863558305 \n",
            "m - 1.0445441606668626 , b - 0.014826693765467417 , cost - 31.811952059367805 \n",
            "m - 1.0445516647187705 , b - 0.014848618440205038 , cost - 31.811832943358482 \n",
            "m - 1.0445517710206773 , b - 0.014870438475874223 , cost - 31.81182786237329 \n",
            "m - 1.0445514851602624 , b - 0.0148922527273428 , cost - 31.811823101960222 \n",
            "m - 1.0445511785140886 , b - 0.014914066435056226 , cost - 31.81181834255699 \n",
            "m - 1.0445508707693771 , b - 0.01493587987682099 , cost - 31.811813583265543 \n",
            "m - 1.0445505629697767 , b - 0.014957693067366749 , cost - 31.811808824083364 \n"
          ]
        }
      ]
    },
    {
      "cell_type": "code",
      "source": [
        "#We see the cost decreasing so we increase the alpha\n",
        "m_curr = b_curr = 0\n",
        "iterations=10\n",
        "alpha=0.0005\n",
        "n=len(x)\n",
        "for i in range(iterations):\n",
        "  y_pred = m_curr * x + b_curr\n",
        "  cost=(1/n)*sum([val**2 for val in (y-y_pred)])\n",
        "  md=-(2/n)*sum(x*(y-y_pred))\n",
        "  bd=-(2/n)*sum(y-y_pred)\n",
        "  m_curr=m_curr-alpha*md\n",
        "  b_curr=b_curr-alpha*bd\n",
        "  print(\"m - {} , b - {} , cost - {} \".format(m_curr,b_curr,cost))\n",
        "\n",
        "#alpha=0.0005, iteration=10"
      ],
      "metadata": {
        "colab": {
          "base_uri": "https://localhost:8080/"
        },
        "id": "bwVeQizq1PZZ",
        "outputId": "c7c06e67-ae53-46f2-c24d-b5dfa26bf8d4"
      },
      "execution_count": 9,
      "outputs": [
        {
          "output_type": "stream",
          "name": "stdout",
          "text": [
            "m - 4.945900000000001 , b - 0.0699 , cost - 5199.1 \n",
            "m - -13.526759920000003 , b - -0.19065602000000004 , cost - 72114.42874412605 \n",
            "m - 55.46755736341602 , b - 0.7830221986760003 , cost - 1005569.6320951347 \n",
            "m - -202.222265077867 , b - -2.8530936553988653 , cost - 14027079.542445645 \n",
            "m - 760.2344244569363 , b - 10.72810674545805 , cost - 195674489.8658648 \n",
            "m - -2834.486078452797 , b - -39.996380915010754 , cost - 2729618856.0967774 \n",
            "m - 10591.588675187868 , b - 149.45718550655113 , cost - 38077626514.01177 \n",
            "m - -39554.02995314333 , b - -558.1404951815049 , cost - 531175131745.5634 \n",
            "m - 147736.97753011528 , b - 2084.6967461836516 , cost - 7409784868923.647 \n",
            "m - -551784.1859400957 , b - -7786.1481495742355 , cost - 103364989294836.55 \n"
          ]
        }
      ]
    },
    {
      "cell_type": "code",
      "source": [
        "#We see the cost increasing so we decrease the alpha\n",
        "m_curr = b_curr = 0\n",
        "iterations=10\n",
        "alpha=0.0003\n",
        "n=len(x)\n",
        "for i in range(iterations):\n",
        "  y_pred = m_curr * x + b_curr\n",
        "  cost=(1/n)*sum([val**2 for val in (y-y_pred)])\n",
        "  md=-(2/n)*sum(x*(y-y_pred))\n",
        "  bd=-(2/n)*sum(y-y_pred)\n",
        "  m_curr=m_curr-alpha*md\n",
        "  b_curr=b_curr-alpha*bd\n",
        "  print(\"m - {} , b - {} , cost - {} \".format(m_curr,b_curr,cost))\n",
        "\n",
        "#alpha=0.0003, iteration=10"
      ],
      "metadata": {
        "colab": {
          "base_uri": "https://localhost:8080/"
        },
        "id": "92DhYVjW1ckf",
        "outputId": "56c7eca1-a76f-4fff-c901-30c0b317822c"
      },
      "execution_count": 11,
      "outputs": [
        {
          "output_type": "stream",
          "name": "stdout",
          "text": [
            "m - 2.96754 , b - 0.04194 , cost - 5199.1 \n",
            "m - -2.4956015712000004 , b - -0.03508416720000002 , cost - 17544.548194285366 \n",
            "m - 7.561851305057857 , b - 0.10690059427401602 , cost - 59385.17588990282 \n",
            "m - -10.953575717646984 , b - -0.1543025463892673 , cost - 201189.51522262004 \n",
            "m - 23.132685196816794 , b - 0.32674934990185744 , cost - 681786.288207558 \n",
            "m - -39.618949950165685 , b - -0.5586647223965007 , cost - 2310602.8623607852 \n",
            "m - 75.90464677035858 , b - 1.0715379904395779 , cost - 7830913.40402194 \n",
            "m - -136.77031915882475 , b - -1.9294231749106572 , cost - 26540097.089781642 \n",
            "m - 254.7569666607514 , b - 3.5954288708799833 , cost - 89948405.65238577 \n",
            "m - -466.0312862315919 , b - -6.575447610205462 , cost - 304848941.25561154 \n"
          ]
        }
      ]
    },
    {
      "cell_type": "code",
      "source": [
        "#We see the cost increasing so we decrease the alpha\n",
        "m_curr = b_curr = 0\n",
        "iterations=10\n",
        "alpha=0.0002\n",
        "n=len(x)\n",
        "for i in range(iterations):\n",
        "  y_pred = m_curr * x + b_curr\n",
        "  cost=(1/n)*sum([val**2 for val in (y-y_pred)])\n",
        "  md=-(2/n)*sum(x*(y-y_pred))\n",
        "  bd=-(2/n)*sum(y-y_pred)\n",
        "  m_curr=m_curr-alpha*md\n",
        "  b_curr=b_curr-alpha*bd\n",
        "  print(\"m - {} , b - {} , cost - {} \".format(m_curr,b_curr,cost))\n",
        "\n",
        "#alpha=0.0002, iteration=10"
      ],
      "metadata": {
        "colab": {
          "base_uri": "https://localhost:8080/"
        },
        "id": "mCp7ySSr1sEK",
        "outputId": "00b2ee60-8e50-427f-b554-b35c958ac2b2"
      },
      "execution_count": 12,
      "outputs": [
        {
          "output_type": "stream",
          "name": "stdout",
          "text": [
            "m - 1.9783600000000003 , b - 0.027960000000000002 , cost - 5199.1 \n",
            "m - 0.20975041279999962 , b - 0.0030470367999999894 , cost - 4161.482445460163 \n",
            "m - 1.7908456142986242 , b - 0.025401286955264 , cost - 3332.2237319269248 \n",
            "m - 0.37738163667530467 , b - 0.005499731626422651 , cost - 2669.4843523161976 \n",
            "m - 1.6409848166378898 , b - 0.023373894401807944 , cost - 2139.826383775145 \n",
            "m - 0.5113514173939655 , b - 0.0074774305434828076 , cost - 1716.5264071567592 \n",
            "m - 1.5212165764726306 , b - 0.021771129698498662 , cost - 1378.2272007804495 \n",
            "m - 0.6184191426785134 , b - 0.009075514323270572 , cost - 1107.8601808918404 \n",
            "m - 1.4254981563597626 , b - 0.020507724625171385 , cost - 891.7842215178443 \n",
            "m - 0.7039868810749315 , b - 0.010370210797388455 , cost - 719.0974036421305 \n"
          ]
        }
      ]
    },
    {
      "cell_type": "code",
      "source": [
        "#We see the cost increasing so we fix alpha and increase number of iterations\n",
        "m_curr = b_curr = 0\n",
        "iterations=200000\n",
        "alpha=0.0002\n",
        "n=len(x)\n",
        "for i in range(iterations):\n",
        "  y_pred = m_curr * x + b_curr\n",
        "  cost=(1/n)*sum([val**2 for val in (y-y_pred)])\n",
        "  md=-(2/n)*sum(x*(y-y_pred))\n",
        "  bd=-(2/n)*sum(y-y_pred)\n",
        "  m_curr=m_curr-alpha*md\n",
        "  b_curr=b_curr-alpha*bd\n",
        "print(\"m - {} , b - {} , cost - {} \".format(m_curr,b_curr,cost))\n",
        "\n",
        "#alpha=0.0002, iteration=200000"
      ],
      "metadata": {
        "colab": {
          "base_uri": "https://localhost:8080/"
        },
        "id": "eI895_5019w3",
        "outputId": "db973c0a-6ca4-46a6-8976-5bf095758440"
      },
      "execution_count": 26,
      "outputs": [
        {
          "output_type": "stream",
          "name": "stdout",
          "text": [
            "m - 1.0180080708653212 , b - 1.8959552114567242 , cost - 31.60453263819199 \n"
          ]
        }
      ]
    },
    {
      "cell_type": "markdown",
      "source": [
        "Thus we have reached the values of m as 1.01 and b as 1.9"
      ],
      "metadata": {
        "id": "LqG8qDwe1zjJ"
      }
    },
    {
      "cell_type": "code",
      "source": [
        "#Verifying using Linear Regression Model\n",
        "reg=linear_model.LinearRegression()\n",
        "reg.fit(df[['math']],df.cs)"
      ],
      "metadata": {
        "colab": {
          "base_uri": "https://localhost:8080/",
          "height": 75
        },
        "id": "iwd4VsrU17MB",
        "outputId": "79ea0efb-9ea4-4a94-df7e-5b272144eb28"
      },
      "execution_count": 27,
      "outputs": [
        {
          "output_type": "execute_result",
          "data": {
            "text/plain": [
              "LinearRegression()"
            ],
            "text/html": [
              "<style>#sk-container-id-2 {color: black;background-color: white;}#sk-container-id-2 pre{padding: 0;}#sk-container-id-2 div.sk-toggleable {background-color: white;}#sk-container-id-2 label.sk-toggleable__label {cursor: pointer;display: block;width: 100%;margin-bottom: 0;padding: 0.3em;box-sizing: border-box;text-align: center;}#sk-container-id-2 label.sk-toggleable__label-arrow:before {content: \"▸\";float: left;margin-right: 0.25em;color: #696969;}#sk-container-id-2 label.sk-toggleable__label-arrow:hover:before {color: black;}#sk-container-id-2 div.sk-estimator:hover label.sk-toggleable__label-arrow:before {color: black;}#sk-container-id-2 div.sk-toggleable__content {max-height: 0;max-width: 0;overflow: hidden;text-align: left;background-color: #f0f8ff;}#sk-container-id-2 div.sk-toggleable__content pre {margin: 0.2em;color: black;border-radius: 0.25em;background-color: #f0f8ff;}#sk-container-id-2 input.sk-toggleable__control:checked~div.sk-toggleable__content {max-height: 200px;max-width: 100%;overflow: auto;}#sk-container-id-2 input.sk-toggleable__control:checked~label.sk-toggleable__label-arrow:before {content: \"▾\";}#sk-container-id-2 div.sk-estimator input.sk-toggleable__control:checked~label.sk-toggleable__label {background-color: #d4ebff;}#sk-container-id-2 div.sk-label input.sk-toggleable__control:checked~label.sk-toggleable__label {background-color: #d4ebff;}#sk-container-id-2 input.sk-hidden--visually {border: 0;clip: rect(1px 1px 1px 1px);clip: rect(1px, 1px, 1px, 1px);height: 1px;margin: -1px;overflow: hidden;padding: 0;position: absolute;width: 1px;}#sk-container-id-2 div.sk-estimator {font-family: monospace;background-color: #f0f8ff;border: 1px dotted black;border-radius: 0.25em;box-sizing: border-box;margin-bottom: 0.5em;}#sk-container-id-2 div.sk-estimator:hover {background-color: #d4ebff;}#sk-container-id-2 div.sk-parallel-item::after {content: \"\";width: 100%;border-bottom: 1px solid gray;flex-grow: 1;}#sk-container-id-2 div.sk-label:hover label.sk-toggleable__label {background-color: #d4ebff;}#sk-container-id-2 div.sk-serial::before {content: \"\";position: absolute;border-left: 1px solid gray;box-sizing: border-box;top: 0;bottom: 0;left: 50%;z-index: 0;}#sk-container-id-2 div.sk-serial {display: flex;flex-direction: column;align-items: center;background-color: white;padding-right: 0.2em;padding-left: 0.2em;position: relative;}#sk-container-id-2 div.sk-item {position: relative;z-index: 1;}#sk-container-id-2 div.sk-parallel {display: flex;align-items: stretch;justify-content: center;background-color: white;position: relative;}#sk-container-id-2 div.sk-item::before, #sk-container-id-2 div.sk-parallel-item::before {content: \"\";position: absolute;border-left: 1px solid gray;box-sizing: border-box;top: 0;bottom: 0;left: 50%;z-index: -1;}#sk-container-id-2 div.sk-parallel-item {display: flex;flex-direction: column;z-index: 1;position: relative;background-color: white;}#sk-container-id-2 div.sk-parallel-item:first-child::after {align-self: flex-end;width: 50%;}#sk-container-id-2 div.sk-parallel-item:last-child::after {align-self: flex-start;width: 50%;}#sk-container-id-2 div.sk-parallel-item:only-child::after {width: 0;}#sk-container-id-2 div.sk-dashed-wrapped {border: 1px dashed gray;margin: 0 0.4em 0.5em 0.4em;box-sizing: border-box;padding-bottom: 0.4em;background-color: white;}#sk-container-id-2 div.sk-label label {font-family: monospace;font-weight: bold;display: inline-block;line-height: 1.2em;}#sk-container-id-2 div.sk-label-container {text-align: center;}#sk-container-id-2 div.sk-container {/* jupyter's `normalize.less` sets `[hidden] { display: none; }` but bootstrap.min.css set `[hidden] { display: none !important; }` so we also need the `!important` here to be able to override the default hidden behavior on the sphinx rendered scikit-learn.org. See: https://github.com/scikit-learn/scikit-learn/issues/21755 */display: inline-block !important;position: relative;}#sk-container-id-2 div.sk-text-repr-fallback {display: none;}</style><div id=\"sk-container-id-2\" class=\"sk-top-container\"><div class=\"sk-text-repr-fallback\"><pre>LinearRegression()</pre><b>In a Jupyter environment, please rerun this cell to show the HTML representation or trust the notebook. <br />On GitHub, the HTML representation is unable to render, please try loading this page with nbviewer.org.</b></div><div class=\"sk-container\" hidden><div class=\"sk-item\"><div class=\"sk-estimator sk-toggleable\"><input class=\"sk-toggleable__control sk-hidden--visually\" id=\"sk-estimator-id-2\" type=\"checkbox\" checked><label for=\"sk-estimator-id-2\" class=\"sk-toggleable__label sk-toggleable__label-arrow\">LinearRegression</label><div class=\"sk-toggleable__content\"><pre>LinearRegression()</pre></div></div></div></div></div>"
            ]
          },
          "metadata": {},
          "execution_count": 27
        }
      ]
    },
    {
      "cell_type": "code",
      "source": [
        "reg.coef_"
      ],
      "metadata": {
        "colab": {
          "base_uri": "https://localhost:8080/"
        },
        "id": "TYJcbmOA3b6v",
        "outputId": "8bc473da-8c6b-400b-a74a-8aadef5543bd"
      },
      "execution_count": 28,
      "outputs": [
        {
          "output_type": "execute_result",
          "data": {
            "text/plain": [
              "array([1.01773624])"
            ]
          },
          "metadata": {},
          "execution_count": 28
        }
      ]
    },
    {
      "cell_type": "code",
      "source": [
        "reg.intercept_"
      ],
      "metadata": {
        "colab": {
          "base_uri": "https://localhost:8080/"
        },
        "id": "Kth7Hswk3vvB",
        "outputId": "f13d2c51-c89c-42b7-9e0b-718f9cdf7b9f"
      },
      "execution_count": 29,
      "outputs": [
        {
          "output_type": "execute_result",
          "data": {
            "text/plain": [
              "1.9152193111569034"
            ]
          },
          "metadata": {},
          "execution_count": 29
        }
      ]
    },
    {
      "cell_type": "markdown",
      "source": [
        "\n",
        "We can see that the values of slope and constant is the similar as we calculated using the gradient descent loop"
      ],
      "metadata": {
        "id": "NftAjjeb5GJi"
      }
    }
  ]
}