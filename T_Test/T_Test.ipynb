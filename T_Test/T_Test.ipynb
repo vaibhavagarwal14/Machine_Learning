{
  "nbformat": 4,
  "nbformat_minor": 0,
  "metadata": {
    "colab": {
      "provenance": []
    },
    "kernelspec": {
      "name": "python3",
      "display_name": "Python 3"
    },
    "language_info": {
      "name": "python"
    }
  },
  "cells": [
    {
      "cell_type": "markdown",
      "source": [
        "Performing T Test to find the significant difference between the means of two groups which may be related"
      ],
      "metadata": {
        "id": "bQKFOYFm3InM"
      }
    },
    {
      "cell_type": "markdown",
      "source": [
        "###One Sample T Test\n"
      ],
      "metadata": {
        "id": "8MaSjs2F32E-"
      }
    },
    {
      "cell_type": "markdown",
      "source": [
        "It checks whether mean of sample and population are different"
      ],
      "metadata": {
        "id": "EDQAm8KJ-ABp"
      }
    },
    {
      "cell_type": "markdown",
      "source": [
        "Example 1"
      ],
      "metadata": {
        "id": "3ygESV1o5_yQ"
      }
    },
    {
      "cell_type": "code",
      "execution_count": 3,
      "metadata": {
        "id": "uVMO007H28Bv"
      },
      "outputs": [],
      "source": [
        "import numpy as np\n",
        "from scipy.stats import ttest_1samp"
      ]
    },
    {
      "cell_type": "code",
      "source": [
        "ages=[10,20,35,50,60,30,26,28,95,29,57,36,55,23,43,54,67,45,43,65,34,23,25,32]"
      ],
      "metadata": {
        "id": "YOa0Up9L4Esm"
      },
      "execution_count": 4,
      "outputs": []
    },
    {
      "cell_type": "code",
      "source": [
        "ages_mean=np.mean(ages)"
      ],
      "metadata": {
        "id": "4SQz_Umn4P-v"
      },
      "execution_count": 5,
      "outputs": []
    },
    {
      "cell_type": "code",
      "source": [
        "ages_mean"
      ],
      "metadata": {
        "colab": {
          "base_uri": "https://localhost:8080/"
        },
        "id": "5z78QKnB5q5l",
        "outputId": "3bda43d9-1bf2-411e-e1ce-15037473a6c9"
      },
      "execution_count": 7,
      "outputs": [
        {
          "output_type": "execute_result",
          "data": {
            "text/plain": [
              "41.041666666666664"
            ]
          },
          "metadata": {},
          "execution_count": 7
        }
      ]
    },
    {
      "cell_type": "code",
      "source": [
        "sample_size=10"
      ],
      "metadata": {
        "id": "FMFdiSzW42_2"
      },
      "execution_count": 10,
      "outputs": []
    },
    {
      "cell_type": "code",
      "source": [
        "ages_sample=np.random.choice(ages,sample_size)"
      ],
      "metadata": {
        "id": "g3q7MYQR47Qd"
      },
      "execution_count": 11,
      "outputs": []
    },
    {
      "cell_type": "code",
      "source": [
        "ages_sample"
      ],
      "metadata": {
        "colab": {
          "base_uri": "https://localhost:8080/"
        },
        "id": "RW3wKWL55AVw",
        "outputId": "496cb10d-6514-47e5-be29-3a97c030857c"
      },
      "execution_count": 12,
      "outputs": [
        {
          "output_type": "execute_result",
          "data": {
            "text/plain": [
              "array([50, 60, 28, 60, 29, 67, 57, 35, 55, 30])"
            ]
          },
          "metadata": {},
          "execution_count": 12
        }
      ]
    },
    {
      "cell_type": "code",
      "source": [
        "ttest,p_value=ttest_1samp(ages_sample,ages_mean)"
      ],
      "metadata": {
        "id": "z7vLquF55EUC"
      },
      "execution_count": 14,
      "outputs": []
    },
    {
      "cell_type": "code",
      "source": [
        "print(p_value)"
      ],
      "metadata": {
        "colab": {
          "base_uri": "https://localhost:8080/"
        },
        "id": "SVKRunPB5ajv",
        "outputId": "64e26532-ce31-4c59-e085-b3c50e535cd2"
      },
      "execution_count": 15,
      "outputs": [
        {
          "output_type": "stream",
          "name": "stdout",
          "text": [
            "0.23390686520060394\n"
          ]
        }
      ]
    },
    {
      "cell_type": "code",
      "source": [
        "if p_value < 0.05:\n",
        "  print(\"H0 Rejected\")\n",
        "else:\n",
        "  print(\"H0 Accepted\")"
      ],
      "metadata": {
        "colab": {
          "base_uri": "https://localhost:8080/"
        },
        "id": "02gKJJQh5dP0",
        "outputId": "2117a307-3da1-499d-a99c-b32d3cf74440"
      },
      "execution_count": 17,
      "outputs": [
        {
          "output_type": "stream",
          "name": "stdout",
          "text": [
            "H0 Accepted\n"
          ]
        }
      ]
    },
    {
      "cell_type": "markdown",
      "source": [
        "Example 2"
      ],
      "metadata": {
        "id": "GtNptvwC599q"
      }
    },
    {
      "cell_type": "code",
      "source": [
        "import numpy as np\n",
        "import pandas as pd\n",
        "import scipy.stats as stats\n",
        "import math"
      ],
      "metadata": {
        "id": "iUCRPBT16Mpn"
      },
      "execution_count": 18,
      "outputs": []
    },
    {
      "cell_type": "code",
      "source": [
        "np.random.seed(6)\n",
        "school_ages=stats.poisson.rvs(loc=18,mu=35,size=1500)\n",
        "classA_ages=stats.poisson.rvs(loc=18,mu=30,size=60)"
      ],
      "metadata": {
        "id": "jG9ivPFi6nTg"
      },
      "execution_count": 19,
      "outputs": []
    },
    {
      "cell_type": "code",
      "source": [
        "school_ages.mean()"
      ],
      "metadata": {
        "colab": {
          "base_uri": "https://localhost:8080/"
        },
        "id": "_K4EZO3v7B7_",
        "outputId": "64e74a13-1ff9-4c0e-9bbc-a90a2f76f3ad"
      },
      "execution_count": 21,
      "outputs": [
        {
          "output_type": "execute_result",
          "data": {
            "text/plain": [
              "53.303333333333335"
            ]
          },
          "metadata": {},
          "execution_count": 21
        }
      ]
    },
    {
      "cell_type": "code",
      "source": [
        "classA_ages.mean()"
      ],
      "metadata": {
        "colab": {
          "base_uri": "https://localhost:8080/"
        },
        "id": "EYheB8ll7Gr-",
        "outputId": "e7ebd1b9-da29-4231-da8b-882e45971580"
      },
      "execution_count": 22,
      "outputs": [
        {
          "output_type": "execute_result",
          "data": {
            "text/plain": [
              "46.9"
            ]
          },
          "metadata": {},
          "execution_count": 22
        }
      ]
    },
    {
      "cell_type": "code",
      "source": [
        "ttext,p_value=stats.ttest_1samp(a=classA_ages,popmean=school_ages.mean())"
      ],
      "metadata": {
        "id": "CHarfHZ57Oul"
      },
      "execution_count": 28,
      "outputs": []
    },
    {
      "cell_type": "code",
      "source": [
        "p_value"
      ],
      "metadata": {
        "colab": {
          "base_uri": "https://localhost:8080/"
        },
        "id": "Xcrc-q0O7c1b",
        "outputId": "68eada32-7732-4331-ed43-c5f2f10f8f18"
      },
      "execution_count": 29,
      "outputs": [
        {
          "output_type": "execute_result",
          "data": {
            "text/plain": [
              "1.139027071016194e-13"
            ]
          },
          "metadata": {},
          "execution_count": 29
        }
      ]
    },
    {
      "cell_type": "code",
      "source": [
        "if p_value < 0.05:\n",
        "  print(\"H0 Rejected\")\n",
        "else:\n",
        "  print(\"H0 Accepted\")"
      ],
      "metadata": {
        "colab": {
          "base_uri": "https://localhost:8080/"
        },
        "id": "LGYXkf2C7jpF",
        "outputId": "9753540c-2e65-46d2-c7ef-b03ccbded9e3"
      },
      "execution_count": 30,
      "outputs": [
        {
          "output_type": "stream",
          "name": "stdout",
          "text": [
            "H0 Rejected\n"
          ]
        }
      ]
    },
    {
      "cell_type": "markdown",
      "source": [
        "###Two Sample T Test"
      ],
      "metadata": {
        "id": "4OB9rIaj8oZV"
      }
    },
    {
      "cell_type": "markdown",
      "source": [
        "Also known as independent T Test, it checks the difference between the means of 2 independent groups"
      ],
      "metadata": {
        "id": "DE-CtiFA-Hj_"
      }
    },
    {
      "cell_type": "code",
      "source": [
        "np.random.seed(12)"
      ],
      "metadata": {
        "id": "twk9q4yt8vXv"
      },
      "execution_count": 26,
      "outputs": []
    },
    {
      "cell_type": "code",
      "source": [
        "classB_ages=stats.poisson.rvs(loc=18,mu=35,size=60)\n",
        "classB_ages.mean()"
      ],
      "metadata": {
        "colab": {
          "base_uri": "https://localhost:8080/"
        },
        "id": "QuoucbR99MZ5",
        "outputId": "cb546476-a43a-4c45-dc60-fff69b9a0491"
      },
      "execution_count": 27,
      "outputs": [
        {
          "output_type": "execute_result",
          "data": {
            "text/plain": [
              "52.71666666666667"
            ]
          },
          "metadata": {},
          "execution_count": 27
        }
      ]
    },
    {
      "cell_type": "code",
      "source": [
        "ttest,p_value=stats.ttest_ind(a=classA_ages,b=classB_ages,equal_var=False)"
      ],
      "metadata": {
        "id": "Zkh50O909cYv"
      },
      "execution_count": 31,
      "outputs": []
    },
    {
      "cell_type": "code",
      "source": [
        "p_value"
      ],
      "metadata": {
        "colab": {
          "base_uri": "https://localhost:8080/"
        },
        "id": "oohMdJ5l9vp5",
        "outputId": "9dd7eb13-ec0d-44e3-b90c-a5c78e2f86e3"
      },
      "execution_count": 32,
      "outputs": [
        {
          "output_type": "execute_result",
          "data": {
            "text/plain": [
              "1.3199439213884146e-07"
            ]
          },
          "metadata": {},
          "execution_count": 32
        }
      ]
    },
    {
      "cell_type": "code",
      "source": [
        "if p_value < 0.05:\n",
        "  print(\"H0 Rejected\")\n",
        "else:\n",
        "  print(\"H0 Accepted\")"
      ],
      "metadata": {
        "colab": {
          "base_uri": "https://localhost:8080/"
        },
        "id": "ky8YQq6a9xMP",
        "outputId": "eac53831-10af-4e93-9f70-a42f2733f3a6"
      },
      "execution_count": 33,
      "outputs": [
        {
          "output_type": "stream",
          "name": "stdout",
          "text": [
            "H0 Rejected\n"
          ]
        }
      ]
    },
    {
      "cell_type": "markdown",
      "source": [
        "###Paired T Test"
      ],
      "metadata": {
        "id": "HLlhI3Vg918Q"
      }
    },
    {
      "cell_type": "markdown",
      "source": [
        "It checks the difference in means of 2 different samples of the same group"
      ],
      "metadata": {
        "id": "uSbZf1Ly-aRj"
      }
    },
    {
      "cell_type": "code",
      "source": [
        "weight1=[20,30,40,34,23,54,33,65,34,65,23,12]\n",
        "weight2=weight1+stats.norm.rvs(scale=5,loc=-1.25,size=12)"
      ],
      "metadata": {
        "id": "j13-XAO694En"
      },
      "execution_count": 34,
      "outputs": []
    },
    {
      "cell_type": "code",
      "source": [
        "print(weight1)\n",
        "print(weight2)"
      ],
      "metadata": {
        "colab": {
          "base_uri": "https://localhost:8080/"
        },
        "id": "UsUG2zWl--n3",
        "outputId": "9ded5bf5-e46c-44d4-fd01-2b2055489cab"
      },
      "execution_count": 35,
      "outputs": [
        {
          "output_type": "stream",
          "name": "stdout",
          "text": [
            "[20, 30, 40, 34, 23, 54, 33, 65, 34, 65, 23, 12]\n",
            "[11.86201983 33.57873174 32.3299827  26.3771395  29.36420881 60.05941216\n",
            " 31.93827982 62.519014   29.42851213 65.50667769 19.32984284  3.1845637 ]\n"
          ]
        }
      ]
    },
    {
      "cell_type": "code",
      "source": [
        "weight_df=pd.DataFrame({\"weight_10\":np.array(weight1),\"weight_20\":np.array(weight2),\"weight_change\":np.array(weight2)-np.array(weight1)})"
      ],
      "metadata": {
        "id": "473O97Xs_DpT"
      },
      "execution_count": 39,
      "outputs": []
    },
    {
      "cell_type": "code",
      "source": [
        "weight_df"
      ],
      "metadata": {
        "colab": {
          "base_uri": "https://localhost:8080/",
          "height": 426
        },
        "id": "EICqcUy0_kUU",
        "outputId": "2b5c5891-e8e7-48c2-ef4e-28c8a7c6aba2"
      },
      "execution_count": 40,
      "outputs": [
        {
          "output_type": "execute_result",
          "data": {
            "text/plain": [
              "    weight_10  weight_20  weight_change\n",
              "0          20  11.862020      -8.137980\n",
              "1          30  33.578732       3.578732\n",
              "2          40  32.329983      -7.670017\n",
              "3          34  26.377139      -7.622861\n",
              "4          23  29.364209       6.364209\n",
              "5          54  60.059412       6.059412\n",
              "6          33  31.938280      -1.061720\n",
              "7          65  62.519014      -2.480986\n",
              "8          34  29.428512      -4.571488\n",
              "9          65  65.506678       0.506678\n",
              "10         23  19.329843      -3.670157\n",
              "11         12   3.184564      -8.815436"
            ],
            "text/html": [
              "\n",
              "  <div id=\"df-fd07bca2-cecf-42f7-8a0a-6eda86779599\">\n",
              "    <div class=\"colab-df-container\">\n",
              "      <div>\n",
              "<style scoped>\n",
              "    .dataframe tbody tr th:only-of-type {\n",
              "        vertical-align: middle;\n",
              "    }\n",
              "\n",
              "    .dataframe tbody tr th {\n",
              "        vertical-align: top;\n",
              "    }\n",
              "\n",
              "    .dataframe thead th {\n",
              "        text-align: right;\n",
              "    }\n",
              "</style>\n",
              "<table border=\"1\" class=\"dataframe\">\n",
              "  <thead>\n",
              "    <tr style=\"text-align: right;\">\n",
              "      <th></th>\n",
              "      <th>weight_10</th>\n",
              "      <th>weight_20</th>\n",
              "      <th>weight_change</th>\n",
              "    </tr>\n",
              "  </thead>\n",
              "  <tbody>\n",
              "    <tr>\n",
              "      <th>0</th>\n",
              "      <td>20</td>\n",
              "      <td>11.862020</td>\n",
              "      <td>-8.137980</td>\n",
              "    </tr>\n",
              "    <tr>\n",
              "      <th>1</th>\n",
              "      <td>30</td>\n",
              "      <td>33.578732</td>\n",
              "      <td>3.578732</td>\n",
              "    </tr>\n",
              "    <tr>\n",
              "      <th>2</th>\n",
              "      <td>40</td>\n",
              "      <td>32.329983</td>\n",
              "      <td>-7.670017</td>\n",
              "    </tr>\n",
              "    <tr>\n",
              "      <th>3</th>\n",
              "      <td>34</td>\n",
              "      <td>26.377139</td>\n",
              "      <td>-7.622861</td>\n",
              "    </tr>\n",
              "    <tr>\n",
              "      <th>4</th>\n",
              "      <td>23</td>\n",
              "      <td>29.364209</td>\n",
              "      <td>6.364209</td>\n",
              "    </tr>\n",
              "    <tr>\n",
              "      <th>5</th>\n",
              "      <td>54</td>\n",
              "      <td>60.059412</td>\n",
              "      <td>6.059412</td>\n",
              "    </tr>\n",
              "    <tr>\n",
              "      <th>6</th>\n",
              "      <td>33</td>\n",
              "      <td>31.938280</td>\n",
              "      <td>-1.061720</td>\n",
              "    </tr>\n",
              "    <tr>\n",
              "      <th>7</th>\n",
              "      <td>65</td>\n",
              "      <td>62.519014</td>\n",
              "      <td>-2.480986</td>\n",
              "    </tr>\n",
              "    <tr>\n",
              "      <th>8</th>\n",
              "      <td>34</td>\n",
              "      <td>29.428512</td>\n",
              "      <td>-4.571488</td>\n",
              "    </tr>\n",
              "    <tr>\n",
              "      <th>9</th>\n",
              "      <td>65</td>\n",
              "      <td>65.506678</td>\n",
              "      <td>0.506678</td>\n",
              "    </tr>\n",
              "    <tr>\n",
              "      <th>10</th>\n",
              "      <td>23</td>\n",
              "      <td>19.329843</td>\n",
              "      <td>-3.670157</td>\n",
              "    </tr>\n",
              "    <tr>\n",
              "      <th>11</th>\n",
              "      <td>12</td>\n",
              "      <td>3.184564</td>\n",
              "      <td>-8.815436</td>\n",
              "    </tr>\n",
              "  </tbody>\n",
              "</table>\n",
              "</div>\n",
              "      <button class=\"colab-df-convert\" onclick=\"convertToInteractive('df-fd07bca2-cecf-42f7-8a0a-6eda86779599')\"\n",
              "              title=\"Convert this dataframe to an interactive table.\"\n",
              "              style=\"display:none;\">\n",
              "        \n",
              "  <svg xmlns=\"http://www.w3.org/2000/svg\" height=\"24px\"viewBox=\"0 0 24 24\"\n",
              "       width=\"24px\">\n",
              "    <path d=\"M0 0h24v24H0V0z\" fill=\"none\"/>\n",
              "    <path d=\"M18.56 5.44l.94 2.06.94-2.06 2.06-.94-2.06-.94-.94-2.06-.94 2.06-2.06.94zm-11 1L8.5 8.5l.94-2.06 2.06-.94-2.06-.94L8.5 2.5l-.94 2.06-2.06.94zm10 10l.94 2.06.94-2.06 2.06-.94-2.06-.94-.94-2.06-.94 2.06-2.06.94z\"/><path d=\"M17.41 7.96l-1.37-1.37c-.4-.4-.92-.59-1.43-.59-.52 0-1.04.2-1.43.59L10.3 9.45l-7.72 7.72c-.78.78-.78 2.05 0 2.83L4 21.41c.39.39.9.59 1.41.59.51 0 1.02-.2 1.41-.59l7.78-7.78 2.81-2.81c.8-.78.8-2.07 0-2.86zM5.41 20L4 18.59l7.72-7.72 1.47 1.35L5.41 20z\"/>\n",
              "  </svg>\n",
              "      </button>\n",
              "      \n",
              "  <style>\n",
              "    .colab-df-container {\n",
              "      display:flex;\n",
              "      flex-wrap:wrap;\n",
              "      gap: 12px;\n",
              "    }\n",
              "\n",
              "    .colab-df-convert {\n",
              "      background-color: #E8F0FE;\n",
              "      border: none;\n",
              "      border-radius: 50%;\n",
              "      cursor: pointer;\n",
              "      display: none;\n",
              "      fill: #1967D2;\n",
              "      height: 32px;\n",
              "      padding: 0 0 0 0;\n",
              "      width: 32px;\n",
              "    }\n",
              "\n",
              "    .colab-df-convert:hover {\n",
              "      background-color: #E2EBFA;\n",
              "      box-shadow: 0px 1px 2px rgba(60, 64, 67, 0.3), 0px 1px 3px 1px rgba(60, 64, 67, 0.15);\n",
              "      fill: #174EA6;\n",
              "    }\n",
              "\n",
              "    [theme=dark] .colab-df-convert {\n",
              "      background-color: #3B4455;\n",
              "      fill: #D2E3FC;\n",
              "    }\n",
              "\n",
              "    [theme=dark] .colab-df-convert:hover {\n",
              "      background-color: #434B5C;\n",
              "      box-shadow: 0px 1px 3px 1px rgba(0, 0, 0, 0.15);\n",
              "      filter: drop-shadow(0px 1px 2px rgba(0, 0, 0, 0.3));\n",
              "      fill: #FFFFFF;\n",
              "    }\n",
              "  </style>\n",
              "\n",
              "      <script>\n",
              "        const buttonEl =\n",
              "          document.querySelector('#df-fd07bca2-cecf-42f7-8a0a-6eda86779599 button.colab-df-convert');\n",
              "        buttonEl.style.display =\n",
              "          google.colab.kernel.accessAllowed ? 'block' : 'none';\n",
              "\n",
              "        async function convertToInteractive(key) {\n",
              "          const element = document.querySelector('#df-fd07bca2-cecf-42f7-8a0a-6eda86779599');\n",
              "          const dataTable =\n",
              "            await google.colab.kernel.invokeFunction('convertToInteractive',\n",
              "                                                     [key], {});\n",
              "          if (!dataTable) return;\n",
              "\n",
              "          const docLinkHtml = 'Like what you see? Visit the ' +\n",
              "            '<a target=\"_blank\" href=https://colab.research.google.com/notebooks/data_table.ipynb>data table notebook</a>'\n",
              "            + ' to learn more about interactive tables.';\n",
              "          element.innerHTML = '';\n",
              "          dataTable['output_type'] = 'display_data';\n",
              "          await google.colab.output.renderOutput(dataTable, element);\n",
              "          const docLink = document.createElement('div');\n",
              "          docLink.innerHTML = docLinkHtml;\n",
              "          element.appendChild(docLink);\n",
              "        }\n",
              "      </script>\n",
              "    </div>\n",
              "  </div>\n",
              "  "
            ]
          },
          "metadata": {},
          "execution_count": 40
        }
      ]
    },
    {
      "cell_type": "code",
      "source": [
        "ttest,p_value=stats.ttest_rel(a=weight1,b=weight2)"
      ],
      "metadata": {
        "id": "yA6lJYya_w85"
      },
      "execution_count": 41,
      "outputs": []
    },
    {
      "cell_type": "code",
      "source": [
        "p_value"
      ],
      "metadata": {
        "colab": {
          "base_uri": "https://localhost:8080/"
        },
        "id": "5qg5o2rK_9el",
        "outputId": "bfd80214-04a1-4914-cce0-2d42f7adc979"
      },
      "execution_count": 42,
      "outputs": [
        {
          "output_type": "execute_result",
          "data": {
            "text/plain": [
              "0.17463938596698594"
            ]
          },
          "metadata": {},
          "execution_count": 42
        }
      ]
    },
    {
      "cell_type": "code",
      "source": [
        "if p_value < 0.05:\n",
        "  print(\"H0 Rejected\")\n",
        "else:\n",
        "  print(\"H0 Accepted\")"
      ],
      "metadata": {
        "colab": {
          "base_uri": "https://localhost:8080/"
        },
        "id": "IHPgSIzIAAaz",
        "outputId": "cecbc476-d291-4c28-f22b-f54acccf43dd"
      },
      "execution_count": 43,
      "outputs": [
        {
          "output_type": "stream",
          "name": "stdout",
          "text": [
            "H0 Accepted\n"
          ]
        }
      ]
    }
  ]
}