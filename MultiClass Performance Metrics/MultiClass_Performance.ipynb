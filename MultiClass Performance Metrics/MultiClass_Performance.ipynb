{
  "nbformat": 4,
  "nbformat_minor": 0,
  "metadata": {
    "colab": {
      "provenance": []
    },
    "kernelspec": {
      "name": "python3",
      "display_name": "Python 3"
    },
    "language_info": {
      "name": "python"
    }
  },
  "cells": [
    {
      "cell_type": "markdown",
      "source": [
        "Calculating the Performance Metrics for a MultiClass Classification problem\n"
      ],
      "metadata": {
        "id": "FvpQKXciNLXT"
      }
    },
    {
      "cell_type": "code",
      "execution_count": 1,
      "metadata": {
        "id": "SbPOnMwvNHYv"
      },
      "outputs": [],
      "source": [
        "from sklearn import metrics"
      ]
    },
    {
      "cell_type": "code",
      "source": [
        "C=\"Cat\"\n",
        "D=\"Dog\"\n",
        "F=\"Fox\""
      ],
      "metadata": {
        "id": "LZVB7R3cNbi6"
      },
      "execution_count": 2,
      "outputs": []
    },
    {
      "cell_type": "code",
      "source": [
        "y_true=['C','C','C','C','C','C','F','F','F','F','F','F','F','F','F','F','D','D','D','D','D','D','D','D','D']\n",
        "y_pred=['C','C','C','C','D','F','C','C','C','C','C','C','D','D','F','F','C','C','C','D','D','D','D','D','D']"
      ],
      "metadata": {
        "id": "Jz6Qy2ICN8CE"
      },
      "execution_count": 3,
      "outputs": []
    },
    {
      "cell_type": "code",
      "source": [
        "metrics.confusion_matrix(y_true,y_pred)"
      ],
      "metadata": {
        "colab": {
          "base_uri": "https://localhost:8080/"
        },
        "id": "vKN227liOdiH",
        "outputId": "cc63b146-4a48-45d9-d565-179ffe20ff5d"
      },
      "execution_count": 4,
      "outputs": [
        {
          "output_type": "execute_result",
          "data": {
            "text/plain": [
              "array([[4, 1, 1],\n",
              "       [3, 6, 0],\n",
              "       [6, 2, 2]])"
            ]
          },
          "metadata": {},
          "execution_count": 4
        }
      ]
    },
    {
      "cell_type": "code",
      "source": [
        "print(metrics.classification_report(y_true,y_pred,digits=3))"
      ],
      "metadata": {
        "colab": {
          "base_uri": "https://localhost:8080/"
        },
        "id": "Kh2SXCvPOiQO",
        "outputId": "f2f572b9-f093-48a6-c453-1a0d16b89d02"
      },
      "execution_count": 6,
      "outputs": [
        {
          "output_type": "stream",
          "name": "stdout",
          "text": [
            "              precision    recall  f1-score   support\n",
            "\n",
            "           C      0.308     0.667     0.421         6\n",
            "           D      0.667     0.667     0.667         9\n",
            "           F      0.667     0.200     0.308        10\n",
            "\n",
            "    accuracy                          0.480        25\n",
            "   macro avg      0.547     0.511     0.465        25\n",
            "weighted avg      0.581     0.480     0.464        25\n",
            "\n"
          ]
        }
      ]
    }
  ]
}